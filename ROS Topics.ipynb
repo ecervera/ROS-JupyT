{
 "cells": [
  {
   "cell_type": "markdown",
   "metadata": {},
   "source": [
    "## Understanding ROS Topics\n",
    "This tutorial introduces ROS topics as well as using the `rostopic` and commandline tool.\n",
    " \n",
    "Source: [ROS Wiki](http://wiki.ros.org/ROS/Tutorials/UnderstandingTopics) \n",
    "\n",
    "Let's start by making sure that we have `roscore` running:"
   ]
  },
  {
   "cell_type": "code",
   "execution_count": null,
   "metadata": {},
   "outputs": [],
   "source": [
    "%%bash\n",
    "rosnode list"
   ]
  },
  {
   "cell_type": "markdown",
   "metadata": {},
   "source": [
    "For this tutorial we will also use turtlesim."
   ]
  },
  {
   "cell_type": "code",
   "execution_count": null,
   "metadata": {},
   "outputs": [],
   "source": [
    "%%bash --bg\n",
    "rosrun turtlesim turtlesim_node"
   ]
  },
  {
   "cell_type": "markdown",
   "metadata": {},
   "source": [
    "### Introducing `rostopic`\n",
    "The `rostopic` tool allows you to get information about ROS **topics**.\n",
    "\n",
    "You can use the help option to get the available sub-commands for `rostopic`:"
   ]
  },
  {
   "cell_type": "code",
   "execution_count": null,
   "metadata": {},
   "outputs": [],
   "source": [
    "%%bash\n",
    "rostopic -h"
   ]
  },
  {
   "cell_type": "markdown",
   "metadata": {},
   "source": [
    "`rostopic list` returns a list of all topics currently subscribed to and published."
   ]
  },
  {
   "cell_type": "code",
   "execution_count": null,
   "metadata": {},
   "outputs": [],
   "source": [
    "%%bash\n",
    "rostopic list -v"
   ]
  },
  {
   "cell_type": "markdown",
   "metadata": {},
   "source": [
    "Communication on topics happens by sending ROS **messages** between nodes. For the publisher and subscriber to communicate, they must send and receive the same **type** of message. This means that a topic type is defined by the message type published on it. The type of the message sent on a topic can be determined using rostopic type."
   ]
  },
  {
   "cell_type": "code",
   "execution_count": null,
   "metadata": {},
   "outputs": [],
   "source": [
    "%%bash\n",
    "rostopic type /turtle1/cmd_vel"
   ]
  },
  {
   "cell_type": "markdown",
   "metadata": {},
   "source": [
    "We can look at the details of the message using `rosmsg`:"
   ]
  },
  {
   "cell_type": "code",
   "execution_count": null,
   "metadata": {},
   "outputs": [],
   "source": [
    "%%bash\n",
    "rosmsg show geometry_msgs/Twist"
   ]
  },
  {
   "cell_type": "markdown",
   "metadata": {},
   "source": [
    "`rostopic pub` publishes data on to a topic currently advertised."
   ]
  },
  {
   "cell_type": "code",
   "execution_count": null,
   "metadata": {},
   "outputs": [],
   "source": [
    "%%bash\n",
    "rostopic pub -1 /turtle1/cmd_vel geometry_msgs/Twist -- \\\n",
    "'[2.0, 0.0, 0.0]' '[0.0, 0.0, 1.8]'"
   ]
  },
  {
   "cell_type": "markdown",
   "metadata": {},
   "source": [
    "The previous command will send a single message to turtlesim telling it to move with an linear velocity of 2.0, and an angular velocity of 1.8 .\n",
    "\n",
    "This is a pretty complicated example, so lets look at each argument in detail.\n",
    "\n",
    "* This command will publish messages to a given topic:  \n",
    "    `rostopic pub`\n",
    "* This option (dash-one) causes rostopic to only publish one message then exit:  \n",
    "    `-1` \n",
    "* This is the name of the topic to publish to:  \n",
    "    `/turtle1/cmd_vel`\n",
    "* This is the message type to use when publishing to the topic:  \n",
    "    `geometry_msgs/Twist`\n",
    "* This option (double-dash) tells the option parser that none of the following arguments is an option. This is required in cases where your arguments have a leading dash -, like negative numbers.  \n",
    "    `--`\n",
    "* As noted before, a geometry_msgs/Twist msg has two vectors of three floating point elements each: `linear` and `angular`. In this case, `'[2.0, 0.0, 0.0]'` becomes the linear value with x=2.0, y=0.0, and z=0.0, and `'[0.0, 0.0, 1.8]'` is the angular value with x=0.0, y=0.0, and z=1.8. These arguments are actually in YAML syntax, which is described more in the [YAML command line documentation](http://wiki.ros.org/ROS/YAMLCommandLine).\n",
    "    `'[2.0, 0.0, 0.0]' '[0.0, 0.0, 1.8]'`\n",
    "\n",
    "You may have noticed that the turtle has stopped moving; this is because the turtle requires a steady stream of commands at 1 Hz to keep moving.\n",
    "\n",
    "Now that you understand how ROS topics work, let's look at how [services and parameters](ROS%20Services%20and%20Parameters.ipynb) work."
   ]
  }
 ],
 "metadata": {
  "kernelspec": {
   "display_name": "Python 2",
   "language": "python",
   "name": "python2"
  },
  "language_info": {
   "codemirror_mode": {
    "name": "ipython",
    "version": 2
   },
   "file_extension": ".py",
   "mimetype": "text/x-python",
   "name": "python",
   "nbconvert_exporter": "python",
   "pygments_lexer": "ipython2",
   "version": "2.7.12"
  }
 },
 "nbformat": 4,
 "nbformat_minor": 1
}
