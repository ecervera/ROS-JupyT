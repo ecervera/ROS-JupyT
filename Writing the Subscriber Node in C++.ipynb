{
 "cells": [
  {
   "cell_type": "markdown",
   "metadata": {},
   "source": [
    "## The Code Explained\n",
    "Now, let's break it down piece by piece, ignoring some pieces that have already been explained above. "
   ]
  },
  {
   "cell_type": "code",
   "execution_count": null,
   "metadata": {},
   "outputs": [],
   "source": [
    "#include \"ros/ros.h\"\n",
    "#pragma cling load(\"roscpp\")\n",
    "#include \"std_msgs/String.h\"\n",
    "\n",
    "int argc = 1;\n",
    "char arg0[] = \"listener\";\n",
    "char* argv[] = {arg0, NULL};\n",
    "\n",
    "ros::init(argc, argv, \"listener\");\n",
    "\n",
    "ros::NodeHandle n;"
   ]
  },
  {
   "cell_type": "code",
   "execution_count": null,
   "metadata": {},
   "outputs": [],
   "source": [
    "void chatterCallback(const std_msgs::String::ConstPtr& msg)\n",
    "{\n",
    "  ROS_INFO(\"I heard: [%s]\", msg->data.c_str());\n",
    "}"
   ]
  },
  {
   "cell_type": "markdown",
   "metadata": {},
   "source": [
    "This is the callback function that will get called when a new message has arrived on the `chatter` topic. The message is passed in a [boost shared_ptr](http://www.boost.org/doc/libs/1_37_0/libs/smart_ptr/shared_ptr.htm), which means you can store it off if you want, without worrying about it getting deleted underneath you, and without copying the underlying data. "
   ]
  },
  {
   "cell_type": "code",
   "execution_count": null,
   "metadata": {},
   "outputs": [],
   "source": [
    "ros::Subscriber sub = n.subscribe(\"chatter\", 1000, chatterCallback);"
   ]
  },
  {
   "cell_type": "markdown",
   "metadata": {},
   "source": [
    "Subscribe to the `chatter` topic with the master. ROS will call the `chatterCallback()` function whenever a new message arrives. The 2nd argument is the queue size, in case we are not able to process messages fast enough. In this case, if the queue reaches 1000 messages, we will start throwing away old messages as new ones arrive.\n",
    "\n",
    "`NodeHandle::subscribe()` returns a `ros::Subscriber` object, that you must hold on to until you want to unsubscribe. When the Subscriber object is destructed, it will automatically unsubscribe from the `chatter` topic.\n",
    "\n",
    "There are versions of the `NodeHandle::subscribe()` function which allow you to specify a class member function, or even anything callable by a `Boost.Function` object. The [roscpp overview](http://wiki.ros.org/roscpp/Overview) contains more information. "
   ]
  },
  {
   "cell_type": "code",
   "execution_count": null,
   "metadata": {},
   "outputs": [],
   "source": [
    "ros::spin();"
   ]
  },
  {
   "cell_type": "markdown",
   "metadata": {},
   "source": [
    "`ros::spin()` enters a loop, calling message callbacks as fast as possible. Don't worry though, if there's nothing for it to do it won't use much CPU. `ros::spin()` will exit once `ros::ok()` returns false, which means `ros::shutdown()` has been called, either by the default Ctrl-C handler, the master telling us to shutdown, or it being called manually.\n",
    "\n",
    "There are other ways of pumping callbacks, but we won't worry about those here. The [roscpp_tutorials](http://wiki.ros.org/roscpp_tutorials) package has some demo applications which demonstrate this. The [roscpp overview](http://wiki.ros.org/roscpp/Overview) also contains more information. \n",
    "\n",
    "Again, here's a condensed version of what's going on:\n",
    "* Initialize the ROS system\n",
    "* Subscribe to the `chatter` topic\n",
    "* Spin, waiting for messages to arrive\n",
    "* When a message arrives, the `chatterCallback()` function is called "
   ]
  }
 ],
 "metadata": {
  "kernelspec": {
   "display_name": "xeus C++11",
   "language": "",
   "name": "xeus-cling-cpp11"
  },
  "language_info": {
   "codemirror_mode": "text/x-c++src",
   "file_extension": ".cpp",
   "mimetype": "text/x-c++src",
   "name": "c++",
   "version": ""
  }
 },
 "nbformat": 4,
 "nbformat_minor": 2
}
