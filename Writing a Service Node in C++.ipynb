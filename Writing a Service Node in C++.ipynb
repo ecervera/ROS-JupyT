{
 "cells": [
  {
   "cell_type": "markdown",
   "metadata": {},
   "source": [
    "## Writing a Service Node\n",
    "Here we'll create the service (\"add_two_ints_server\") node which will receive two ints and return the sum. "
   ]
  },
  {
   "cell_type": "code",
   "execution_count": null,
   "metadata": {},
   "outputs": [],
   "source": [
    "#include \"ros/ros.h\"\n",
    "#pragma cling load(\"roscpp\")"
   ]
  },
  {
   "cell_type": "code",
   "execution_count": null,
   "metadata": {},
   "outputs": [],
   "source": [
    "#include \"rospy_tutorials/AddTwoInts.h\""
   ]
  },
  {
   "cell_type": "markdown",
   "metadata": {},
   "source": [
    "`rospy_tutorials/AddTwoInts.h` is the header file generated from the `srv` file. "
   ]
  },
  {
   "cell_type": "code",
   "execution_count": null,
   "metadata": {},
   "outputs": [],
   "source": [
    "bool add(rospy_tutorials::AddTwoInts::Request  &req,\n",
    "         rospy_tutorials::AddTwoInts::Response &res)\n",
    "{\n",
    "  res.sum = req.a + req.b;\n",
    "  ROS_INFO(\"request: x=%ld, y=%ld\", (long int)req.a, (long int)req.b);\n",
    "  ROS_INFO(\"sending back response: [%ld]\", (long int)res.sum);\n",
    "  return true;\n",
    "}"
   ]
  },
  {
   "cell_type": "markdown",
   "metadata": {},
   "source": [
    "This function provides the service for adding two ints, it takes in the request and response type defined in the `srv` file and returns a boolean. \n",
    "\n",
    "Here the two ints are added and stored in the response. Then some information about the request and response are logged. Finally the service returns true when it is complete."
   ]
  },
  {
   "cell_type": "code",
   "execution_count": null,
   "metadata": {},
   "outputs": [],
   "source": [
    "int argc = 1;\n",
    "char arg0[] = \"add_two_ints_server\";\n",
    "char* argv[] = {arg0, NULL};"
   ]
  },
  {
   "cell_type": "code",
   "execution_count": null,
   "metadata": {},
   "outputs": [],
   "source": [
    "ros::init(argc, argv, \"add_two_ints_server\");\n",
    "ros::NodeHandle n;"
   ]
  },
  {
   "cell_type": "code",
   "execution_count": null,
   "metadata": {},
   "outputs": [],
   "source": [
    "ros::ServiceServer service = n.advertiseService(\"add_two_ints\", add);\n",
    "ROS_INFO(\"Ready to add two ints.\");\n",
    "ros::spin();"
   ]
  },
  {
   "cell_type": "markdown",
   "metadata": {},
   "source": [
    "Here the service is created and advertised over ROS. "
   ]
  }
 ],
 "metadata": {
  "kernelspec": {
   "display_name": "xeus C++11",
   "language": "",
   "name": "xeus-cling-cpp11"
  },
  "language_info": {
   "codemirror_mode": "text/x-c++src",
   "file_extension": ".cpp",
   "mimetype": "text/x-c++src",
   "name": "c++",
   "version": ""
  }
 },
 "nbformat": 4,
 "nbformat_minor": 2
}
